{
 "cells": [
  {
   "cell_type": "code",
   "execution_count": 2,
   "id": "32d72a5e-0f9f-4738-800f-6e6b62e213c3",
   "metadata": {},
   "outputs": [
    {
     "name": "stdout",
     "output_type": "stream",
     "text": [
      "                    course_id       userid_DI  registered  certified  \\\n",
      "0  HarvardX/CB22x/2013_Spring  MHxPC130442623           1          0   \n",
      "1         HarvardX/CS50x/2012  MHxPC130442623           1          0   \n",
      "2  HarvardX/CB22x/2013_Spring  MHxPC130275857           1          0   \n",
      "3         HarvardX/CS50x/2012  MHxPC130275857           1          0   \n",
      "4  HarvardX/ER22x/2013_Spring  MHxPC130275857           1          0   \n",
      "\n",
      "  final_cc_cname_DI      LoE_DI     YoB gender grade start_time_DI  \\\n",
      "0     United States  Bachelor's  1988.0      m     0    2012-12-19   \n",
      "1     United States  Bachelor's  1988.0      m     0    2012-10-15   \n",
      "2     United States  Bachelor's  1988.0      m     0    2013-02-08   \n",
      "3     United States  Bachelor's  1988.0      m     0    2012-09-17   \n",
      "4     United States  Bachelor's  1988.0      m     0    2012-12-19   \n",
      "\n",
      "  last_event_DI  nevents  ndays_act  nchapters  nforum_posts   age  \\\n",
      "0    2013-11-17      NaN        9.0        NaN             0  36.0   \n",
      "1           NaN      NaN        9.0        1.0             0  36.0   \n",
      "2    2013-11-17      NaN       16.0        NaN             0  36.0   \n",
      "3           NaN      NaN       16.0        NaN             0  36.0   \n",
      "4           NaN      NaN       16.0        NaN             0  36.0   \n",
      "\n",
      "   engagement_ratio  \n",
      "0               NaN  \n",
      "1               NaN  \n",
      "2               NaN  \n",
      "3               NaN  \n",
      "4               NaN  \n"
     ]
    }
   ],
   "source": [
    "import pandas as pd\n",
    "\n",
    "# Load the dataset\n",
    "data = pd.read_csv(\"cleaned_dataset.csv\")\n",
    "\n",
    "# Display the first few rows to understand the structure\n",
    "print(data.head())"
   ]
  },
  {
   "cell_type": "code",
   "execution_count": 4,
   "id": "e8585191-6977-4cb3-ac4c-0bf8ee42c627",
   "metadata": {},
   "outputs": [
    {
     "name": "stdout",
     "output_type": "stream",
     "text": [
      "       registered      certified            YoB        nevents      ndays_act  \\\n",
      "count    592766.0  592766.000000  592766.000000  404323.000000  436674.000000   \n",
      "mean          1.0       0.029838    1985.637746     459.783658       5.940519   \n",
      "std           0.0       0.170141       8.254398    1576.711332      12.263307   \n",
      "min           1.0       0.000000    1931.000000       1.000000       1.000000   \n",
      "25%           1.0       0.000000    1983.000000       3.000000       1.000000   \n",
      "50%           1.0       0.000000    1988.000000      25.000000       2.000000   \n",
      "75%           1.0       0.000000    1991.000000     169.000000       5.000000   \n",
      "max           1.0       1.000000    2013.000000  197757.000000     205.000000   \n",
      "\n",
      "           nchapters   nforum_posts            age  engagement_ratio  \n",
      "count  355995.000000  592766.000000  592766.000000     404323.000000  \n",
      "mean        3.689291       0.019660      38.362254         35.262078  \n",
      "std         4.568059       0.234847       8.254398         61.886091  \n",
      "min         1.000000       0.000000      11.000000          0.142857  \n",
      "25%         1.000000       0.000000      33.000000          2.000000  \n",
      "50%         2.000000       0.000000      36.000000         11.750000  \n",
      "75%         4.000000       0.000000      41.000000         45.500000  \n",
      "max        48.000000      20.000000      93.000000      10633.333333  \n"
     ]
    }
   ],
   "source": [
    "print(data.describe())\n"
   ]
  },
  {
   "cell_type": "code",
   "execution_count": 6,
   "id": "fc506eaf-39b3-44fd-b376-131598ad4600",
   "metadata": {},
   "outputs": [
    {
     "name": "stdout",
     "output_type": "stream",
     "text": [
      "course_id                 0\n",
      "userid_DI                 0\n",
      "registered                0\n",
      "certified                 0\n",
      "final_cc_cname_DI         0\n",
      "LoE_DI                    0\n",
      "YoB                       0\n",
      "gender                    0\n",
      "grade                     0\n",
      "start_time_DI             0\n",
      "last_event_DI        169903\n",
      "nevents              188443\n",
      "ndays_act            156092\n",
      "nchapters            236771\n",
      "nforum_posts              0\n",
      "age                       0\n",
      "engagement_ratio     188443\n",
      "dtype: int64\n",
      "course_id             object\n",
      "userid_DI             object\n",
      "registered             int64\n",
      "certified              int64\n",
      "final_cc_cname_DI     object\n",
      "LoE_DI                object\n",
      "YoB                  float64\n",
      "gender                object\n",
      "grade                 object\n",
      "start_time_DI         object\n",
      "last_event_DI         object\n",
      "nevents              float64\n",
      "ndays_act            float64\n",
      "nchapters            float64\n",
      "nforum_posts           int64\n",
      "age                  float64\n",
      "engagement_ratio     float64\n",
      "dtype: object\n"
     ]
    }
   ],
   "source": [
    "# Check for missing values\n",
    "print(data.isnull().sum())\n",
    "\n",
    "# Check data types\n",
    "print(data.dtypes)"
   ]
  },
  {
   "cell_type": "code",
   "execution_count": 8,
   "id": "a95f664f-963b-4a25-86d0-523b471ef373",
   "metadata": {},
   "outputs": [
    {
     "name": "stdout",
     "output_type": "stream",
     "text": [
      "<class 'pandas.core.frame.DataFrame'>\n",
      "RangeIndex: 592766 entries, 0 to 592765\n",
      "Data columns (total 17 columns):\n",
      " #   Column             Non-Null Count   Dtype  \n",
      "---  ------             --------------   -----  \n",
      " 0   course_id          592766 non-null  object \n",
      " 1   userid_DI          592766 non-null  object \n",
      " 2   registered         592766 non-null  int64  \n",
      " 3   certified          592766 non-null  int64  \n",
      " 4   final_cc_cname_DI  592766 non-null  object \n",
      " 5   LoE_DI             592766 non-null  object \n",
      " 6   YoB                592766 non-null  float64\n",
      " 7   gender             592766 non-null  object \n",
      " 8   grade              592766 non-null  object \n",
      " 9   start_time_DI      592766 non-null  object \n",
      " 10  last_event_DI      422863 non-null  object \n",
      " 11  nevents            404323 non-null  float64\n",
      " 12  ndays_act          436674 non-null  float64\n",
      " 13  nchapters          355995 non-null  float64\n",
      " 14  nforum_posts       592766 non-null  int64  \n",
      " 15  age                592766 non-null  float64\n",
      " 16  engagement_ratio   404323 non-null  float64\n",
      "dtypes: float64(6), int64(3), object(8)\n",
      "memory usage: 76.9+ MB\n",
      "None\n"
     ]
    }
   ],
   "source": [
    "print(data.info())\n"
   ]
  },
  {
   "cell_type": "code",
   "execution_count": null,
   "id": "0a59d4e2-9c48-4e9c-a467-3578f44fa5fd",
   "metadata": {},
   "outputs": [],
   "source": []
  }
 ],
 "metadata": {
  "kernelspec": {
   "display_name": "Python 3 (ipykernel)",
   "language": "python",
   "name": "python3"
  },
  "language_info": {
   "codemirror_mode": {
    "name": "ipython",
    "version": 3
   },
   "file_extension": ".py",
   "mimetype": "text/x-python",
   "name": "python",
   "nbconvert_exporter": "python",
   "pygments_lexer": "ipython3",
   "version": "3.12.4"
  }
 },
 "nbformat": 4,
 "nbformat_minor": 5
}
