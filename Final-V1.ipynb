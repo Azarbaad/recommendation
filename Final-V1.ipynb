{
 "cells": [
  {
   "cell_type": "code",
   "execution_count": 8,
   "id": "d5a41fd2-4279-4306-9536-1227119b7222",
   "metadata": {},
   "outputs": [
    {
     "name": "stdout",
     "output_type": "stream",
     "text": [
      "                    course_id       userid_DI  registered  viewed  explored  \\\n",
      "0  HarvardX/CB22x/2013_Spring  MHxPC130442623           1       0         0   \n",
      "1         HarvardX/CS50x/2012  MHxPC130442623           1       1         0   \n",
      "2  HarvardX/CB22x/2013_Spring  MHxPC130275857           1       0         0   \n",
      "3         HarvardX/CS50x/2012  MHxPC130275857           1       0         0   \n",
      "4  HarvardX/ER22x/2013_Spring  MHxPC130275857           1       0         0   \n",
      "\n",
      "   certified final_cc_cname_DI LoE_DI  YoB gender grade start_time_DI  \\\n",
      "0          0     United States    NaN  NaN    NaN     0    2012-12-19   \n",
      "1          0     United States    NaN  NaN    NaN     0    2012-10-15   \n",
      "2          0     United States    NaN  NaN    NaN     0    2013-02-08   \n",
      "3          0     United States    NaN  NaN    NaN     0    2012-09-17   \n",
      "4          0     United States    NaN  NaN    NaN     0    2012-12-19   \n",
      "\n",
      "  last_event_DI  nevents  ndays_act  nplay_video  nchapters  nforum_posts  \\\n",
      "0    2013-11-17      NaN        9.0          NaN        NaN             0   \n",
      "1           NaN      NaN        9.0          NaN        1.0             0   \n",
      "2    2013-11-17      NaN       16.0          NaN        NaN             0   \n",
      "3           NaN      NaN       16.0          NaN        NaN             0   \n",
      "4           NaN      NaN       16.0          NaN        NaN             0   \n",
      "\n",
      "   roles  incomplete_flag  \n",
      "0    NaN              1.0  \n",
      "1    NaN              1.0  \n",
      "2    NaN              1.0  \n",
      "3    NaN              1.0  \n",
      "4    NaN              1.0  \n"
     ]
    }
   ],
   "source": [
    "import pandas as pd\n",
    "import warnings\n",
    "warnings.filterwarnings(\"ignore\")\n",
    "\n",
    "# Load the dataset\n",
    "data = pd.read_csv(\"Courses.csv\")\n",
    "\n",
    "# Display the first few rows to understand the structure\n",
    "print(data.head())\n"
   ]
  },
  {
   "cell_type": "code",
   "execution_count": 10,
   "id": "fbbe64ee-6eb1-4b88-9c56-fc16440f9f8b",
   "metadata": {},
   "outputs": [
    {
     "name": "stdout",
     "output_type": "stream",
     "text": [
      "Index(['course_id', 'userid_DI', 'registered', 'viewed', 'explored',\n",
      "       'certified', 'final_cc_cname_DI', 'LoE_DI', 'YoB', 'gender', 'grade',\n",
      "       'start_time_DI', 'last_event_DI', 'nevents', 'ndays_act', 'nplay_video',\n",
      "       'nchapters', 'nforum_posts', 'roles', 'incomplete_flag'],\n",
      "      dtype='object')\n",
      "course_id                 0\n",
      "userid_DI                 0\n",
      "registered                0\n",
      "viewed                    0\n",
      "explored                  0\n",
      "certified                 0\n",
      "final_cc_cname_DI         0\n",
      "LoE_DI               106008\n",
      "YoB                   96605\n",
      "gender                86806\n",
      "grade                 48372\n",
      "start_time_DI             0\n",
      "last_event_DI        178954\n",
      "nevents              199151\n",
      "ndays_act            162743\n",
      "nplay_video          457530\n",
      "nchapters            258753\n",
      "nforum_posts              0\n",
      "roles                641138\n",
      "incomplete_flag      540977\n",
      "dtype: int64\n",
      "course_id             object\n",
      "userid_DI             object\n",
      "registered             int64\n",
      "viewed                 int64\n",
      "explored               int64\n",
      "certified              int64\n",
      "final_cc_cname_DI     object\n",
      "LoE_DI                object\n",
      "YoB                  float64\n",
      "gender                object\n",
      "grade                 object\n",
      "start_time_DI         object\n",
      "last_event_DI         object\n",
      "nevents              float64\n",
      "ndays_act            float64\n",
      "nplay_video          float64\n",
      "nchapters            float64\n",
      "nforum_posts           int64\n",
      "roles                float64\n",
      "incomplete_flag      float64\n",
      "dtype: object\n",
      "0\n"
     ]
    }
   ],
   "source": [
    "# Check column names\n",
    "print(data.columns)\n",
    "\n",
    "# Check for missing values\n",
    "print(data.isnull().sum())\n",
    "\n",
    "# Check data types\n",
    "print(data.dtypes)\n",
    "\n",
    "# Check for duplicates\n",
    "print(data.duplicated().sum())\n"
   ]
  },
  {
   "cell_type": "code",
   "execution_count": 12,
   "id": "d8848f8e-1919-42de-9e72-cb633be638f3",
   "metadata": {},
   "outputs": [
    {
     "name": "stdout",
     "output_type": "stream",
     "text": [
      "<class 'pandas.core.frame.DataFrame'>\n",
      "RangeIndex: 641138 entries, 0 to 641137\n",
      "Data columns (total 20 columns):\n",
      " #   Column             Non-Null Count   Dtype  \n",
      "---  ------             --------------   -----  \n",
      " 0   course_id          641138 non-null  object \n",
      " 1   userid_DI          641138 non-null  object \n",
      " 2   registered         641138 non-null  int64  \n",
      " 3   viewed             641138 non-null  int64  \n",
      " 4   explored           641138 non-null  int64  \n",
      " 5   certified          641138 non-null  int64  \n",
      " 6   final_cc_cname_DI  641138 non-null  object \n",
      " 7   LoE_DI             535130 non-null  object \n",
      " 8   YoB                544533 non-null  float64\n",
      " 9   gender             554332 non-null  object \n",
      " 10  grade              592766 non-null  object \n",
      " 11  start_time_DI      641138 non-null  object \n",
      " 12  last_event_DI      462184 non-null  object \n",
      " 13  nevents            441987 non-null  float64\n",
      " 14  ndays_act          478395 non-null  float64\n",
      " 15  nplay_video        183608 non-null  float64\n",
      " 16  nchapters          382385 non-null  float64\n",
      " 17  nforum_posts       641138 non-null  int64  \n",
      " 18  roles              0 non-null       float64\n",
      " 19  incomplete_flag    100161 non-null  float64\n",
      "dtypes: float64(7), int64(5), object(8)\n",
      "memory usage: 97.8+ MB\n",
      "None\n"
     ]
    }
   ],
   "source": [
    "print(data.info())"
   ]
  },
  {
   "cell_type": "code",
   "execution_count": 7,
   "id": "fbb7564a-c147-4c6f-962c-b2f7820fe6c1",
   "metadata": {},
   "outputs": [
    {
     "name": "stdout",
     "output_type": "stream",
     "text": [
      "       registered         viewed       explored      certified            YoB  \\\n",
      "count    641138.0  641138.000000  641138.000000  641138.000000  544533.000000   \n",
      "mean          1.0       0.624299       0.061899       0.027587    1985.253279   \n",
      "std           0.0       0.484304       0.240973       0.163786       8.891814   \n",
      "min           1.0       0.000000       0.000000       0.000000    1931.000000   \n",
      "25%           1.0       0.000000       0.000000       0.000000    1982.000000   \n",
      "50%           1.0       1.000000       0.000000       0.000000    1988.000000   \n",
      "75%           1.0       1.000000       0.000000       0.000000    1991.000000   \n",
      "max           1.0       1.000000       1.000000       1.000000    2013.000000   \n",
      "\n",
      "             nevents      ndays_act    nplay_video      nchapters  \\\n",
      "count  441987.000000  478395.000000  183608.000000  382385.000000   \n",
      "mean      431.008018       5.710254     114.844173       3.634423   \n",
      "std      1516.116057      11.866471     426.996844       4.490987   \n",
      "min         1.000000       1.000000       1.000000       1.000000   \n",
      "25%         3.000000       1.000000       5.000000       1.000000   \n",
      "50%        24.000000       2.000000      18.000000       2.000000   \n",
      "75%       158.000000       4.000000      73.000000       4.000000   \n",
      "max    197757.000000     205.000000   98517.000000      48.000000   \n",
      "\n",
      "        nforum_posts  roles  incomplete_flag  \n",
      "count  641138.000000    0.0         100161.0  \n",
      "mean        0.018968    NaN              1.0  \n",
      "std         0.229539    NaN              0.0  \n",
      "min         0.000000    NaN              1.0  \n",
      "25%         0.000000    NaN              1.0  \n",
      "50%         0.000000    NaN              1.0  \n",
      "75%         0.000000    NaN              1.0  \n",
      "max        20.000000    NaN              1.0  \n"
     ]
    }
   ],
   "source": [
    "print(data.describe())"
   ]
  },
  {
   "cell_type": "code",
   "execution_count": 14,
   "id": "7f1a1e5f-ddc1-441c-b648-77fdc2e4f328",
   "metadata": {},
   "outputs": [
    {
     "name": "stdout",
     "output_type": "stream",
     "text": [
      "Number of unique students: 476532\n"
     ]
    }
   ],
   "source": [
    "# Count unique students\n",
    "n_unique_students = data['userid_DI'].nunique()\n",
    "\n",
    "# Or alternatively, if you want to see the unique values:\n",
    "#unique_students = df['userid_DI'].unique()\n",
    "\n",
    "print(f\"Number of unique students: {n_unique_students}\")\n"
   ]
  },
  {
   "cell_type": "code",
   "execution_count": 16,
   "id": "1227d8bd-445c-4d01-ae35-b0593268ff24",
   "metadata": {},
   "outputs": [
    {
     "name": "stdout",
     "output_type": "stream",
     "text": [
      "Number of unique courses: 16\n"
     ]
    }
   ],
   "source": [
    "# Count unique course\n",
    "n_unique_courses = data['course_id'].nunique()\n",
    "\n",
    "print(f\"Number of unique courses: {n_unique_courses}\")"
   ]
  },
  {
   "cell_type": "code",
   "execution_count": 16,
   "id": "d9ce3e81-4487-479f-9bb6-2ebafeec968e",
   "metadata": {},
   "outputs": [
    {
     "name": "stdout",
     "output_type": "stream",
     "text": [
      "Total number of unique students: 476532\n",
      "Average number of courses per student: 1.35\n",
      "\n",
      "Distribution of courses per student:\n",
      "1     364822\n",
      "2      78269\n",
      "3      21982\n",
      "4       7171\n",
      "5       2643\n",
      "6        900\n",
      "7        334\n",
      "8        132\n",
      "9         93\n",
      "10        42\n",
      "11        40\n",
      "12        28\n",
      "13        15\n",
      "14        24\n",
      "15        17\n",
      "16        20\n",
      "Name: count, dtype: int64\n"
     ]
    }
   ],
   "source": [
    "import pandas as pd\n",
    "\n",
    "# Count courses per student\n",
    "courses_per_student = data.groupby('userid_DI').size()\n",
    "\n",
    "# Calculate average\n",
    "average_courses = courses_per_student.mean()\n",
    "\n",
    "# Print results\n",
    "print(f\"Total number of unique students: {len(courses_per_student)}\")\n",
    "print(f\"Average number of courses per student: {average_courses:.2f}\")\n",
    "\n",
    "# see distribution\n",
    "print(\"\\nDistribution of courses per student:\")\n",
    "print(courses_per_student.value_counts().sort_index())\n"
   ]
  },
  {
   "cell_type": "code",
   "execution_count": 2,
   "id": "799dfdfe-e282-4974-9830-0413d75ca789",
   "metadata": {},
   "outputs": [
    {
     "name": "stdout",
     "output_type": "stream",
     "text": [
      "Requirement already satisfied: matplotlib in c:\\users\\asus\\anaconda3\\lib\\site-packages (3.8.4)\n",
      "Requirement already satisfied: seaborn in c:\\users\\asus\\anaconda3\\lib\\site-packages (0.13.2)\n",
      "Requirement already satisfied: contourpy>=1.0.1 in c:\\users\\asus\\anaconda3\\lib\\site-packages (from matplotlib) (1.2.0)\n",
      "Requirement already satisfied: cycler>=0.10 in c:\\users\\asus\\anaconda3\\lib\\site-packages (from matplotlib) (0.11.0)\n",
      "Requirement already satisfied: fonttools>=4.22.0 in c:\\users\\asus\\anaconda3\\lib\\site-packages (from matplotlib) (4.51.0)\n",
      "Requirement already satisfied: kiwisolver>=1.3.1 in c:\\users\\asus\\anaconda3\\lib\\site-packages (from matplotlib) (1.4.4)\n",
      "Requirement already satisfied: numpy>=1.21 in c:\\users\\asus\\anaconda3\\lib\\site-packages (from matplotlib) (1.26.4)\n",
      "Requirement already satisfied: packaging>=20.0 in c:\\users\\asus\\anaconda3\\lib\\site-packages (from matplotlib) (23.2)\n",
      "Requirement already satisfied: pillow>=8 in c:\\users\\asus\\anaconda3\\lib\\site-packages (from matplotlib) (10.3.0)\n",
      "Requirement already satisfied: pyparsing>=2.3.1 in c:\\users\\asus\\anaconda3\\lib\\site-packages (from matplotlib) (3.0.9)\n",
      "Requirement already satisfied: python-dateutil>=2.7 in c:\\users\\asus\\anaconda3\\lib\\site-packages (from matplotlib) (2.9.0.post0)\n",
      "Requirement already satisfied: pandas>=1.2 in c:\\users\\asus\\anaconda3\\lib\\site-packages (from seaborn) (2.2.2)\n",
      "Requirement already satisfied: pytz>=2020.1 in c:\\users\\asus\\anaconda3\\lib\\site-packages (from pandas>=1.2->seaborn) (2024.1)\n",
      "Requirement already satisfied: tzdata>=2022.7 in c:\\users\\asus\\anaconda3\\lib\\site-packages (from pandas>=1.2->seaborn) (2023.3)\n",
      "Requirement already satisfied: six>=1.5 in c:\\users\\asus\\anaconda3\\lib\\site-packages (from python-dateutil>=2.7->matplotlib) (1.16.0)\n",
      "Note: you may need to restart the kernel to use updated packages.\n"
     ]
    }
   ],
   "source": [
    "pip install matplotlib seaborn\n"
   ]
  },
  {
   "cell_type": "code",
   "execution_count": 18,
   "id": "63121f44-aa3d-476f-923a-88b404eddab0",
   "metadata": {},
   "outputs": [
    {
     "name": "stdout",
     "output_type": "stream",
     "text": [
      "Total number of unique students: 476532\n",
      "Average number of courses per student: 1.35\n",
      "\n",
      "Distribution of courses per student:\n",
      "1     364822\n",
      "2      78269\n",
      "3      21982\n",
      "4       7171\n",
      "5       2643\n",
      "6        900\n",
      "7        334\n",
      "8        132\n",
      "9         93\n",
      "10        42\n",
      "11        40\n",
      "12        28\n",
      "13        15\n",
      "14        24\n",
      "15        17\n",
      "16        20\n",
      "Name: count, dtype: int64\n"
     ]
    },
    {
     "data": {
      "image/png": "[encoded data removed]",
      "text/plain": [
       "<Figure size 1000x600 with 1 Axes>"
      ]
     },
     "metadata": {},
     "output_type": "display_data"
    }
   ],
   "source": [
    "import pandas as pd\n",
    "import seaborn as sns\n",
    "import matplotlib.pyplot as plt\n",
    "\n",
    "# Count courses per student\n",
    "courses_per_student = data.groupby('userid_DI').size()\n",
    "\n",
    "# Calculate average\n",
    "average_courses = courses_per_student.mean()\n",
    "\n",
    "# Print results\n",
    "print(f\"Total number of unique students: {len(courses_per_student)}\")\n",
    "print(f\"Average number of courses per student: {average_courses:.2f}\")\n",
    "\n",
    "# See distribution\n",
    "print(\"\\nDistribution of courses per student:\")\n",
    "print(courses_per_student.value_counts().sort_index())\n",
    "\n",
    "# Plot distribution using seaborn\n",
    "plt.figure(figsize=(10, 6))\n",
    "sns.countplot(x=courses_per_student)\n",
    "\n",
    "plt.xlabel('Number of Courses per Student')\n",
    "plt.ylabel('Number of Students')\n",
    "plt.title('Distribution of Courses per Student')\n",
    "\n",
    "plt.show()\n"
   ]
  },
  {
   "cell_type": "code",
   "execution_count": 18,
   "id": "72738c24-eff8-491e-b3a6-0507ad79f3da",
   "metadata": {},
   "outputs": [
    {
     "name": "stdout",
     "output_type": "stream",
     "text": [
      "Original dataset shape: (641138, 20)\n",
      "Cleaned dataset shape: (592766, 15)\n",
      "\n",
      "Missing values in cleaned dataset:\n",
      "course_id                 0\n",
      "userid_DI                 0\n",
      "registered                0\n",
      "certified                 0\n",
      "final_cc_cname_DI         0\n",
      "LoE_DI                    0\n",
      "YoB                       0\n",
      "gender                    0\n",
      "grade                     0\n",
      "start_time_DI             0\n",
      "last_event_DI        169903\n",
      "nevents              188443\n",
      "ndays_act            156092\n",
      "nchapters            236771\n",
      "nforum_posts              0\n",
      "dtype: int64\n"
     ]
    }
   ],
   "source": [
    "\n",
    "import numpy as np\n",
    "\n",
    "# 1. Remove specified columns\n",
    "columns_to_remove = ['viewed', 'explored', 'nplay_video', 'incomplete_flag', 'roles']\n",
    "df_cleaned = data.drop(columns=columns_to_remove)\n",
    "\n",
    "# 2. Handle missing values\n",
    "# For categorical variables (LoE_DI and gender) - impute with mode\n",
    "df_cleaned['LoE_DI'] = df_cleaned['LoE_DI'].fillna(df_cleaned['LoE_DI'].mode()[0])\n",
    "df_cleaned['gender'] = df_cleaned['gender'].fillna(df_cleaned['gender'].mode()[0])\n",
    "\n",
    "# For YoB - impute with median\n",
    "df_cleaned['YoB'] = df_cleaned['YoB'].fillna(df_cleaned['YoB'].median())\n",
    "\n",
    "# 3. Drop rows with missing grades\n",
    "df_cleaned = df_cleaned.dropna(subset=['grade'])\n",
    "\n",
    "# 4. Save the cleaned dataset\n",
    "df_cleaned.to_csv('cleaned_dataset.csv', index=False)\n",
    "\n",
    "# Print summary of the changes\n",
    "print(\"Original dataset shape:\", data.shape)\n",
    "print(\"Cleaned dataset shape:\", df_cleaned.shape)\n",
    "print(\"\\nMissing values in cleaned dataset:\")\n",
    "print(df_cleaned.isnull().sum())\n"
   ]
  },
  {
   "cell_type": "code",
   "execution_count": 15,
   "id": "65d05d20-062f-4977-af38-963b7f6fef80",
   "metadata": {},
   "outputs": [
    {
     "name": "stdout",
     "output_type": "stream",
     "text": [
      "Original dataset shape: (641138, 20)\n",
      "Cleaned dataset shape: (592766, 15)\n",
      "\n",
      "Missing values in cleaned dataset:\n",
      "course_id                 0\n",
      "userid_DI                 0\n",
      "registered                0\n",
      "certified                 0\n",
      "final_cc_cname_DI         0\n",
      "LoE_DI                    0\n",
      "YoB                       0\n",
      "gender                    0\n",
      "grade                     0\n",
      "start_time_DI             0\n",
      "last_event_DI        169903\n",
      "nevents              188443\n",
      "ndays_act            156092\n",
      "nchapters            236771\n",
      "nforum_posts              0\n",
      "dtype: int64\n"
     ]
    }
   ],
   "source": [
    "\n",
    "import numpy as np\n",
    "\n",
    "\n",
    "\n",
    "# 1. Remove specified columns\n",
    "columns_to_remove = ['viewed', 'explored', 'nplay_video', 'incomplete_flag', 'roles']\n",
    "df_cleaned = data.drop(columns=columns_to_remove)\n",
    "\n",
    "# 2. Handle missing values\n",
    "# For categorical variables (LoE_DI and gender) - impute with mode\n",
    "df_cleaned['LoE_DI'] = df_cleaned['LoE_DI'].fillna(df_cleaned['LoE_DI'].mode()[0])\n",
    "df_cleaned['gender'] = df_cleaned['gender'].fillna(df_cleaned['gender'].mode()[0])\n",
    "\n",
    "# For YoB - impute with median\n",
    "df_cleaned['YoB'] = df_cleaned['YoB'].fillna(df_cleaned['YoB'].median())\n",
    "\n",
    "# 3. Drop rows with missing grades\n",
    "df_cleaned = df_cleaned.dropna(subset=['grade'])\n",
    "\n",
    "# 4. Save the cleaned dataset\n",
    "df_cleaned.to_csv('cleaned_dataset.csv', index=False)\n",
    "\n",
    "# Print summary of the changes\n",
    "print(\"Original dataset shape:\", data.shape)\n",
    "print(\"Cleaned dataset shape:\", df_cleaned.shape)\n",
    "print(\"\\nMissing values in cleaned dataset:\")\n",
    "print(df_cleaned.isnull().sum())\n"
   ]
  },
  {
   "cell_type": "code",
   "execution_count": 19,
   "id": "3674f328-6950-484e-95ee-ac88ee86208e",
   "metadata": {},
   "outputs": [
    {
     "ename": "AttributeError",
     "evalue": "'DataFrame' object has no attribute 'to_datetime'",
     "output_type": "error",
     "traceback": [
      "\u001b[1;31m---------------------------------------------------------------------------\u001b[0m",
      "\u001b[1;31mAttributeError\u001b[0m                            Traceback (most recent call last)",
      "\u001b[1;32m~\\AppData\\Local\\Temp\\ipykernel_20532\\3332318213.py\u001b[0m in \u001b[0;36m?\u001b[1;34m()\u001b[0m\n\u001b[0;32m      1\u001b[0m \u001b[1;31m# Convert date columns to datetime\u001b[0m\u001b[1;33m\u001b[0m\u001b[1;33m\u001b[0m\u001b[0m\n\u001b[1;32m----> 2\u001b[1;33m \u001b[0mdf_cleaned\u001b[0m\u001b[1;33m[\u001b[0m\u001b[1;34m'start_time_DI'\u001b[0m\u001b[1;33m]\u001b[0m \u001b[1;33m=\u001b[0m \u001b[0mdf_cleaned\u001b[0m\u001b[1;33m.\u001b[0m\u001b[0mto_datetime\u001b[0m\u001b[1;33m(\u001b[0m\u001b[0mdata\u001b[0m\u001b[1;33m[\u001b[0m\u001b[1;34m'start_time_DI'\u001b[0m\u001b[1;33m]\u001b[0m\u001b[1;33m)\u001b[0m\u001b[1;33m\u001b[0m\u001b[1;33m\u001b[0m\u001b[0m\n\u001b[0m\u001b[0;32m      3\u001b[0m \u001b[0mdf_cleaned\u001b[0m\u001b[1;33m[\u001b[0m\u001b[1;34m'last_event_DI'\u001b[0m\u001b[1;33m]\u001b[0m \u001b[1;33m=\u001b[0m \u001b[0mdf_cleaned\u001b[0m\u001b[1;33m.\u001b[0m\u001b[0mto_datetime\u001b[0m\u001b[1;33m(\u001b[0m\u001b[0mdata\u001b[0m\u001b[1;33m[\u001b[0m\u001b[1;34m'last_event_DI'\u001b[0m\u001b[1;33m]\u001b[0m\u001b[1;33m)\u001b[0m\u001b[1;33m\u001b[0m\u001b[1;33m\u001b[0m\u001b[0m\n\u001b[0;32m      4\u001b[0m \u001b[1;33m\u001b[0m\u001b[0m\n\u001b[0;32m      5\u001b[0m \u001b[1;31m# Convert boolean columns\u001b[0m\u001b[1;33m\u001b[0m\u001b[1;33m\u001b[0m\u001b[0m\n",
      "\u001b[1;32m~\\anaconda3\\Lib\\site-packages\\pandas\\core\\generic.py\u001b[0m in \u001b[0;36m?\u001b[1;34m(self, name)\u001b[0m\n\u001b[0;32m   6295\u001b[0m             \u001b[1;32mand\u001b[0m \u001b[0mname\u001b[0m \u001b[1;32mnot\u001b[0m \u001b[1;32min\u001b[0m \u001b[0mself\u001b[0m\u001b[1;33m.\u001b[0m\u001b[0m_accessors\u001b[0m\u001b[1;33m\u001b[0m\u001b[1;33m\u001b[0m\u001b[0m\n\u001b[0;32m   6296\u001b[0m             \u001b[1;32mand\u001b[0m \u001b[0mself\u001b[0m\u001b[1;33m.\u001b[0m\u001b[0m_info_axis\u001b[0m\u001b[1;33m.\u001b[0m\u001b[0m_can_hold_identifiers_and_holds_name\u001b[0m\u001b[1;33m(\u001b[0m\u001b[0mname\u001b[0m\u001b[1;33m)\u001b[0m\u001b[1;33m\u001b[0m\u001b[1;33m\u001b[0m\u001b[0m\n\u001b[0;32m   6297\u001b[0m         \u001b[1;33m)\u001b[0m\u001b[1;33m:\u001b[0m\u001b[1;33m\u001b[0m\u001b[1;33m\u001b[0m\u001b[0m\n\u001b[0;32m   6298\u001b[0m             \u001b[1;32mreturn\u001b[0m \u001b[0mself\u001b[0m\u001b[1;33m[\u001b[0m\u001b[0mname\u001b[0m\u001b[1;33m]\u001b[0m\u001b[1;33m\u001b[0m\u001b[1;33m\u001b[0m\u001b[0m\n\u001b[1;32m-> 6299\u001b[1;33m         \u001b[1;32mreturn\u001b[0m \u001b[0mobject\u001b[0m\u001b[1;33m.\u001b[0m\u001b[0m__getattribute__\u001b[0m\u001b[1;33m(\u001b[0m\u001b[0mself\u001b[0m\u001b[1;33m,\u001b[0m \u001b[0mname\u001b[0m\u001b[1;33m)\u001b[0m\u001b[1;33m\u001b[0m\u001b[1;33m\u001b[0m\u001b[0m\n\u001b[0m",
      "\u001b[1;31mAttributeError\u001b[0m: 'DataFrame' object has no attribute 'to_datetime'"
     ]
    }
   ],
   "source": [
    "# Convert date columns to datetime\n",
    "#df_cleaned['start_time_DI'] = df_cleaned.to_datetime(data['start_time_DI'])\n",
    "#df_cleaned['last_event_DI'] = df_cleaned.to_datetime(data['last_event_DI'])\n",
    "\n",
    "# Convert boolean columns\n",
    "#boolean_columns = ['registered', 'viewed', 'explored', 'certified', 'incomplete_flag']\n",
    "#data[boolean_columns] = data[boolean_columns].astype(bool)\n"
   ]
  },
  {
   "cell_type": "code",
   "execution_count": 21,
   "id": "eeaf88d5-0b9b-438a-95a4-8da9e6abf3b4",
   "metadata": {},
   "outputs": [
    {
     "name": "stdout",
     "output_type": "stream",
     "text": [
      "                    course_id       userid_DI  registered  certified  \\\n",
      "0  HarvardX/CB22x/2013_Spring  MHxPC130442623           1          0   \n",
      "1         HarvardX/CS50x/2012  MHxPC130442623           1          0   \n",
      "2  HarvardX/CB22x/2013_Spring  MHxPC130275857           1          0   \n",
      "3         HarvardX/CS50x/2012  MHxPC130275857           1          0   \n",
      "4  HarvardX/ER22x/2013_Spring  MHxPC130275857           1          0   \n",
      "\n",
      "  final_cc_cname_DI      LoE_DI     YoB gender grade start_time_DI  \\\n",
      "0     United States  Bachelor's  1988.0      m     0    2012-12-19   \n",
      "1     United States  Bachelor's  1988.0      m     0    2012-10-15   \n",
      "2     United States  Bachelor's  1988.0      m     0    2013-02-08   \n",
      "3     United States  Bachelor's  1988.0      m     0    2012-09-17   \n",
      "4     United States  Bachelor's  1988.0      m     0    2012-12-19   \n",
      "\n",
      "  last_event_DI  nevents  ndays_act  nchapters  nforum_posts   age  \\\n",
      "0    2013-11-17      NaN        9.0        NaN             0  36.0   \n",
      "1           NaN      NaN        9.0        1.0             0  36.0   \n",
      "2    2013-11-17      NaN       16.0        NaN             0  36.0   \n",
      "3           NaN      NaN       16.0        NaN             0  36.0   \n",
      "4           NaN      NaN       16.0        NaN             0  36.0   \n",
      "\n",
      "   engagement_ratio  \n",
      "0               NaN  \n",
      "1               NaN  \n",
      "2               NaN  \n",
      "3               NaN  \n",
      "4               NaN  \n"
     ]
    }
   ],
   "source": [
    "# Calculate age\n",
    "df_cleaned['age'] = 2024 - df_cleaned['YoB']\n",
    "\n",
    "# Calculate engagement ratio\n",
    "df_cleaned['engagement_ratio'] =df_cleaned['nevents'] / df_cleaned['ndays_act']\n",
    "\n",
    "df_cleaned.to_csv('cleaned_dataset.csv', index=False)\n",
    "print(df_cleaned.head())"
   ]
  },
  {
   "cell_type": "code",
   "execution_count": null,
   "id": "3eee9936-ca4f-4b88-92cb-140833b9fb08",
   "metadata": {},
   "outputs": [],
   "source": []
  }
 ],
 "metadata": {
  "kernelspec": {
   "display_name": "Python 3 (ipykernel)",
   "language": "python",
   "name": "python3"
  },
  "language_info": {
   "codemirror_mode": {
    "name": "ipython",
    "version": 3
   },
   "file_extension": ".py",
   "mimetype": "text/x-python",
   "name": "python",
   "nbconvert_exporter": "python",
   "pygments_lexer": "ipython3",
   "version": "3.12.4"
  }
 },
 "nbformat": 4,
 "nbformat_minor": 5
}
